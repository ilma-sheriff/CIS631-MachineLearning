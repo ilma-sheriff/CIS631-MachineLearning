{
 "cells": [
  {
   "cell_type": "markdown",
   "metadata": {},
   "source": [
    "# Deep learning Neural Network Model"
   ]
  },
  {
   "cell_type": "code",
   "execution_count": 1,
   "metadata": {},
   "outputs": [],
   "source": [
    "from tqdm import tqdm\n",
    "%matplotlib inline\n",
    "import re\n",
    "\n",
    "import os\n",
    "\n",
    "import pandas as pd\n",
    "import numpy as np\n",
    "\n",
    "import matplotlib.pyplot as plt\n",
    "import seaborn as sns\n",
    "from wordcloud import WordCloud\n",
    "from PIL import Image\n",
    "\n",
    "import nltk\n",
    "from nltk.tokenize import word_tokenize\n",
    "from nltk.corpus import (\n",
    "    wordnet,\n",
    "    stopwords\n",
    ")\n",
    "\n",
    "import json;\n",
    "import keras;\n",
    "import keras.preprocessing.text as kpt;\n",
    "from keras.preprocessing.text import Tokenizer;\n",
    "\n",
    "import sklearn\n",
    "from sklearn.preprocessing import Normalizer\n",
    "from sklearn.feature_extraction.text import (\n",
    "    CountVectorizer,\n",
    "    TfidfVectorizer\n",
    ")\n",
    "from sklearn.model_selection import train_test_split\n",
    "from sklearn.metrics import accuracy_score\n",
    "\n",
    "from keras.models import (\n",
    "    Sequential,\n",
    "    model_from_json\n",
    ")\n",
    "from keras.layers import Dense, Dropout, Activation;\n"
   ]
  },
  {
   "cell_type": "code",
   "execution_count": 36,
   "metadata": {},
   "outputs": [],
   "source": [
    "df = pd.read_csv(\"tweetdata\",encoding= 'unicode_escape')"
   ]
  },
  {
   "cell_type": "code",
   "execution_count": 37,
   "metadata": {},
   "outputs": [
    {
     "data": {
      "text/plain": [
       "(1010508, 5)"
      ]
     },
     "execution_count": 37,
     "metadata": {},
     "output_type": "execute_result"
    }
   ],
   "source": [
    "df.shape"
   ]
  },
  {
   "cell_type": "code",
   "execution_count": 5,
   "metadata": {},
   "outputs": [
    {
     "data": {
      "text/html": [
       "<div>\n",
       "<style scoped>\n",
       "    .dataframe tbody tr th:only-of-type {\n",
       "        vertical-align: middle;\n",
       "    }\n",
       "\n",
       "    .dataframe tbody tr th {\n",
       "        vertical-align: top;\n",
       "    }\n",
       "\n",
       "    .dataframe thead th {\n",
       "        text-align: right;\n",
       "    }\n",
       "</style>\n",
       "<table border=\"1\" class=\"dataframe\">\n",
       "  <thead>\n",
       "    <tr style=\"text-align: right;\">\n",
       "      <th></th>\n",
       "      <th>Unnamed: 0</th>\n",
       "      <th>Data</th>\n",
       "      <th>Subjectivity</th>\n",
       "      <th>Polarity</th>\n",
       "      <th>Score</th>\n",
       "    </tr>\n",
       "  </thead>\n",
       "  <tbody>\n",
       "    <tr>\n",
       "      <th>0</th>\n",
       "      <td>0</td>\n",
       "      <td>cnsnews benshapiro Can COVID19Vaccine end the ...</td>\n",
       "      <td>0.0</td>\n",
       "      <td>0.0</td>\n",
       "      <td>Neutral</td>\n",
       "    </tr>\n",
       "    <tr>\n",
       "      <th>1</th>\n",
       "      <td>1</td>\n",
       "      <td>IntrepidWarrior realDonaldTrump Can COVID19Vac...</td>\n",
       "      <td>0.0</td>\n",
       "      <td>0.0</td>\n",
       "      <td>Neutral</td>\n",
       "    </tr>\n",
       "    <tr>\n",
       "      <th>2</th>\n",
       "      <td>2</td>\n",
       "      <td>edyong209 HelenBranswell Can COVID19Vaccine en...</td>\n",
       "      <td>0.0</td>\n",
       "      <td>0.0</td>\n",
       "      <td>Neutral</td>\n",
       "    </tr>\n",
       "    <tr>\n",
       "      <th>3</th>\n",
       "      <td>3</td>\n",
       "      <td>AdamTexDavis Can COVID19Vaccine end the pandemic</td>\n",
       "      <td>0.0</td>\n",
       "      <td>0.0</td>\n",
       "      <td>Neutral</td>\n",
       "    </tr>\n",
       "    <tr>\n",
       "      <th>4</th>\n",
       "      <td>4</td>\n",
       "      <td>HegKong Can COVID19Vaccine end the pandemic</td>\n",
       "      <td>0.0</td>\n",
       "      <td>0.0</td>\n",
       "      <td>Neutral</td>\n",
       "    </tr>\n",
       "  </tbody>\n",
       "</table>\n",
       "</div>"
      ],
      "text/plain": [
       "   Unnamed: 0                                               Data  \\\n",
       "0           0  cnsnews benshapiro Can COVID19Vaccine end the ...   \n",
       "1           1  IntrepidWarrior realDonaldTrump Can COVID19Vac...   \n",
       "2           2  edyong209 HelenBranswell Can COVID19Vaccine en...   \n",
       "3           3   AdamTexDavis Can COVID19Vaccine end the pandemic   \n",
       "4           4        HegKong Can COVID19Vaccine end the pandemic   \n",
       "\n",
       "   Subjectivity  Polarity    Score  \n",
       "0           0.0       0.0  Neutral  \n",
       "1           0.0       0.0  Neutral  \n",
       "2           0.0       0.0  Neutral  \n",
       "3           0.0       0.0  Neutral  \n",
       "4           0.0       0.0  Neutral  "
      ]
     },
     "execution_count": 5,
     "metadata": {},
     "output_type": "execute_result"
    }
   ],
   "source": [
    "df.head()"
   ]
  },
  {
   "cell_type": "code",
   "execution_count": 6,
   "metadata": {},
   "outputs": [
    {
     "data": {
      "text/plain": [
       "array(['Neutral', 'Positive', 'Negative'], dtype=object)"
      ]
     },
     "execution_count": 6,
     "metadata": {},
     "output_type": "execute_result"
    }
   ],
   "source": [
    "df.Score.unique()"
   ]
  },
  {
   "cell_type": "code",
   "execution_count": 7,
   "metadata": {},
   "outputs": [],
   "source": [
    "def getTextAnalysis(a):\n",
    "    if a > 0:\n",
    "        return \"1\"\n",
    "    else:\n",
    "        return \"0\""
   ]
  },
  {
   "cell_type": "code",
   "execution_count": 8,
   "metadata": {},
   "outputs": [],
   "source": [
    "df['Score'] = df['Polarity'].apply(getTextAnalysis)"
   ]
  },
  {
   "cell_type": "code",
   "execution_count": 9,
   "metadata": {},
   "outputs": [],
   "source": [
    "def preprocessing_data(df):\n",
    "    df['Data'] = df['Data'].str.lower()\n",
    "    df['Data'] = df['Data'].str.replace('rt', '')\n",
    "    df['Data'] = df['Data'].replace(r'@\\w+', '', regex=True)\n",
    "    df['Data'] = df['Data'].replace(r'http\\S+', '', regex=True)\n",
    "    df['Data'] = df['Data'].replace(r'www.[^ ]+', '', regex=True)\n",
    "    df['Data'] = df['Data'].replace(r'[0-9]+', '', regex=True)\n",
    "    df['Data'] = df['Data'].replace(r'[!\"#$%&()*+,-./:;<=>?@[\\]^_`{|}~]', '', regex=True)\n",
    "    return df"
   ]
  },
  {
   "cell_type": "code",
   "execution_count": 10,
   "metadata": {},
   "outputs": [],
   "source": [
    "def in_dict(text):\n",
    "    if wordnet.synsets(text):\n",
    "        return True\n",
    "\n",
    "def replace_elongated_word(text):\n",
    "    regex = r'(\\w*)(\\w+)\\2(\\w*)'\n",
    "    repl = r'\\1\\2\\3'    \n",
    "    if in_dict(text):\n",
    "        return text\n",
    "    new_word = re.sub(regex, repl, text)\n",
    "    if new_word != text:\n",
    "        return replace_elongated_word(new_word)\n",
    "    else:\n",
    "        return new_word\n",
    "\n",
    "def detect_elongated_words(r):\n",
    "    regexrep = r'(\\w*)(\\w+)(\\2)(\\w*)'\n",
    "    words = [''.join(i) for i in re.findall(regexrep, r)]\n",
    "    for word in words:\n",
    "        if not in_dict(word):\n",
    "            row = re.sub(word, replace_elongated_word(word), r)\n",
    "    return r"
   ]
  },
  {
   "cell_type": "code",
   "execution_count": 11,
   "metadata": {},
   "outputs": [],
   "source": [
    "def stop_words(df):\n",
    "    stop_words_list = stopwords.words('english')\n",
    "    df['Data'] = df['Data'].str.lower()\n",
    "    df['Data'] = df['Data'].apply(lambda x: ' '.join([word for word in x.split() if word not in (stop_words_list)]))\n",
    "    return df"
   ]
  },
  {
   "cell_type": "code",
   "execution_count": 12,
   "metadata": {},
   "outputs": [],
   "source": [
    "def replace_antonyms(word):\n",
    "    for syn in wordnet.synsets(word): \n",
    "        for lemma in syn.lemmas(): \n",
    "            if lemma.antonyms(): \n",
    "                return lemma.antonyms()[0].name()\n",
    "    return word"
   ]
  },
  {
   "cell_type": "code",
   "execution_count": 13,
   "metadata": {},
   "outputs": [],
   "source": [
    "def clean_df(df):\n",
    "    df = preprocessing_data(df)\n",
    "    df['Data'] = df['Data'].apply(lambda x: detect_elongated_words(x))\n",
    "\n",
    "    df = stop_words(df)\n",
    "    return df"
   ]
  },
  {
   "cell_type": "code",
   "execution_count": 14,
   "metadata": {},
   "outputs": [
    {
     "data": {
      "text/html": [
       "<div>\n",
       "<style scoped>\n",
       "    .dataframe tbody tr th:only-of-type {\n",
       "        vertical-align: middle;\n",
       "    }\n",
       "\n",
       "    .dataframe tbody tr th {\n",
       "        vertical-align: top;\n",
       "    }\n",
       "\n",
       "    .dataframe thead th {\n",
       "        text-align: right;\n",
       "    }\n",
       "</style>\n",
       "<table border=\"1\" class=\"dataframe\">\n",
       "  <thead>\n",
       "    <tr style=\"text-align: right;\">\n",
       "      <th></th>\n",
       "      <th>Unnamed: 0</th>\n",
       "      <th>Data</th>\n",
       "      <th>Subjectivity</th>\n",
       "      <th>Polarity</th>\n",
       "      <th>Score</th>\n",
       "    </tr>\n",
       "  </thead>\n",
       "  <tbody>\n",
       "    <tr>\n",
       "      <th>0</th>\n",
       "      <td>0</td>\n",
       "      <td>cnsnews benshapiro Can COVID19Vaccine end the ...</td>\n",
       "      <td>0.000000</td>\n",
       "      <td>0.000000</td>\n",
       "      <td>0</td>\n",
       "    </tr>\n",
       "    <tr>\n",
       "      <th>1</th>\n",
       "      <td>1</td>\n",
       "      <td>IntrepidWarrior realDonaldTrump Can COVID19Vac...</td>\n",
       "      <td>0.000000</td>\n",
       "      <td>0.000000</td>\n",
       "      <td>0</td>\n",
       "    </tr>\n",
       "    <tr>\n",
       "      <th>2</th>\n",
       "      <td>2</td>\n",
       "      <td>edyong209 HelenBranswell Can COVID19Vaccine en...</td>\n",
       "      <td>0.000000</td>\n",
       "      <td>0.000000</td>\n",
       "      <td>0</td>\n",
       "    </tr>\n",
       "    <tr>\n",
       "      <th>3</th>\n",
       "      <td>3</td>\n",
       "      <td>AdamTexDavis Can COVID19Vaccine end the pandemic</td>\n",
       "      <td>0.000000</td>\n",
       "      <td>0.000000</td>\n",
       "      <td>0</td>\n",
       "    </tr>\n",
       "    <tr>\n",
       "      <th>4</th>\n",
       "      <td>4</td>\n",
       "      <td>HegKong Can COVID19Vaccine end the pandemic</td>\n",
       "      <td>0.000000</td>\n",
       "      <td>0.000000</td>\n",
       "      <td>0</td>\n",
       "    </tr>\n",
       "    <tr>\n",
       "      <th>...</th>\n",
       "      <td>...</td>\n",
       "      <td>...</td>\n",
       "      <td>...</td>\n",
       "      <td>...</td>\n",
       "      <td>...</td>\n",
       "    </tr>\n",
       "    <tr>\n",
       "      <th>9995</th>\n",
       "      <td>9995</td>\n",
       "      <td>UAlberta is happy to have you on campus This f...</td>\n",
       "      <td>0.766667</td>\n",
       "      <td>0.600000</td>\n",
       "      <td>1</td>\n",
       "    </tr>\n",
       "    <tr>\n",
       "      <th>9996</th>\n",
       "      <td>9996</td>\n",
       "      <td>RT WilsonMHI NEW from MHI Vaccines when approp...</td>\n",
       "      <td>0.488636</td>\n",
       "      <td>0.409091</td>\n",
       "      <td>1</td>\n",
       "    </tr>\n",
       "    <tr>\n",
       "      <th>9997</th>\n",
       "      <td>9997</td>\n",
       "      <td>BREAKING Clinical trial for AstraZenecaOxford ...</td>\n",
       "      <td>0.000000</td>\n",
       "      <td>0.000000</td>\n",
       "      <td>0</td>\n",
       "    </tr>\n",
       "    <tr>\n",
       "      <th>9998</th>\n",
       "      <td>9998</td>\n",
       "      <td>Supply chain professionals point to the many c...</td>\n",
       "      <td>0.575000</td>\n",
       "      <td>0.125000</td>\n",
       "      <td>1</td>\n",
       "    </tr>\n",
       "    <tr>\n",
       "      <th>9999</th>\n",
       "      <td>9999</td>\n",
       "      <td>RT AnitaOakville COVID19VaccineWe have added m...</td>\n",
       "      <td>0.000000</td>\n",
       "      <td>0.000000</td>\n",
       "      <td>0</td>\n",
       "    </tr>\n",
       "  </tbody>\n",
       "</table>\n",
       "<p>10000 rows × 5 columns</p>\n",
       "</div>"
      ],
      "text/plain": [
       "      Unnamed: 0                                               Data  \\\n",
       "0              0  cnsnews benshapiro Can COVID19Vaccine end the ...   \n",
       "1              1  IntrepidWarrior realDonaldTrump Can COVID19Vac...   \n",
       "2              2  edyong209 HelenBranswell Can COVID19Vaccine en...   \n",
       "3              3   AdamTexDavis Can COVID19Vaccine end the pandemic   \n",
       "4              4        HegKong Can COVID19Vaccine end the pandemic   \n",
       "...          ...                                                ...   \n",
       "9995        9995  UAlberta is happy to have you on campus This f...   \n",
       "9996        9996  RT WilsonMHI NEW from MHI Vaccines when approp...   \n",
       "9997        9997  BREAKING Clinical trial for AstraZenecaOxford ...   \n",
       "9998        9998  Supply chain professionals point to the many c...   \n",
       "9999        9999  RT AnitaOakville COVID19VaccineWe have added m...   \n",
       "\n",
       "      Subjectivity  Polarity Score  \n",
       "0         0.000000  0.000000     0  \n",
       "1         0.000000  0.000000     0  \n",
       "2         0.000000  0.000000     0  \n",
       "3         0.000000  0.000000     0  \n",
       "4         0.000000  0.000000     0  \n",
       "...            ...       ...   ...  \n",
       "9995      0.766667  0.600000     1  \n",
       "9996      0.488636  0.409091     1  \n",
       "9997      0.000000  0.000000     0  \n",
       "9998      0.575000  0.125000     1  \n",
       "9999      0.000000  0.000000     0  \n",
       "\n",
       "[10000 rows x 5 columns]"
      ]
     },
     "execution_count": 14,
     "metadata": {},
     "output_type": "execute_result"
    }
   ],
   "source": [
    "df"
   ]
  },
  {
   "cell_type": "code",
   "execution_count": 15,
   "metadata": {},
   "outputs": [],
   "source": [
    "def vectorization(df):\n",
    "    vector = CountVectorizer()\n",
    "    frequency_matrix = vector.fit_transform(df.Data)\n",
    "    sum_frequencies = np.sum(frequency_matrix, axis=0)\n",
    "    frequency = np.squeeze(np.asarray(sum_frequencies))\n",
    "    frequency_df = pd.DataFrame([frequency], columns=vector.get_feature_names()).transpose()\n",
    "    return frequency_df"
   ]
  },
  {
   "cell_type": "code",
   "execution_count": 16,
   "metadata": {},
   "outputs": [],
   "source": [
    "def word_cloud(tweets):\n",
    "    file = os.getcwd()\n",
    "    word_cloud = WordCloud(width=2000, height=1000, max_font_size=200, background_color=\"black\", max_words=2000,  contour_width=1, \n",
    "                           contour_color=\"steelblue\", colormap=\"nipy_spectral\", stopwords=[\"covid19\"])\n",
    "    word_cloud.generate(tweets)\n",
    "    plt.figure(figsize=(10,10))\n",
    "    plt.imshow(word_cloud, interpolation=\"hermite\")\n",
    "    plt.axis(\"off\")    \n",
    "    plt.show()\n"
   ]
  },
  {
   "cell_type": "code",
   "execution_count": 17,
   "metadata": {},
   "outputs": [],
   "source": [
    "def graph(words, sent):\n",
    "    target = words[0][1:51].index\n",
    "    title = \"Repeated Words %s\" %sent\n",
    "    plt.figure(figsize=(10,5))\n",
    "    plt.bar(np.arange(50), words[0][1:51], width = 0.8, alpha=0.4, \n",
    "            edgecolor = \"black\", capsize=8, linewidth=1);\n",
    "    plt.xticks(np.arange(50), target, rotation=90, size=14);\n",
    "    plt.xlabel(\"50 more repeated words\", size=14);\n",
    "    plt.ylabel(\"Frequency\", size=14);\n",
    "    plt.title(title, size=18)\n",
    "    plt.grid(False);\n",
    "    plt.gca().spines[\"top\"].set_visible(False);\n",
    "    plt.gca().spines[\"right\"].set_visible(False);\n",
    "    plt.show()"
   ]
  },
  {
   "cell_type": "code",
   "execution_count": 18,
   "metadata": {},
   "outputs": [],
   "source": [
    "def regression_graph(df):\n",
    "    df = df[1:]\n",
    "    sns.set_style(\"whitegrid\")   \n",
    "    plt.figure(figsize=(6,6))\n",
    "    points = plt.scatter(df[\"1\"], df[\"0\"], c=df[\"1\"], s=75, cmap=\"bwr\")\n",
    "    plt.colorbar(points)\n",
    "    sns.regplot(x=\"1\", y=\"0\",fit_reg=False, scatter=False, color=\".1\", data=df)\n",
    "    plt.xlabel(\"Frequency for Positive Tweets\", size=14)\n",
    "    plt.ylabel(\"Frequency for Negative Tweets\", size=14)\n",
    "    plt.title(\"Word frequency in Positive vs. Negative Tweets\", size=14)\n",
    "    plt.grid(False)\n",
    "    sns.despine()"
   ]
  },
  {
   "cell_type": "code",
   "execution_count": 19,
   "metadata": {},
   "outputs": [],
   "source": [
    "def splitting(table):\n",
    "    X_train, X_test, y_train, y_test = train_test_split(df.Data, df.Score, test_size=0.2, shuffle=True)\n",
    "    return X_train, X_test, y_train, y_test\n"
   ]
  },
  {
   "cell_type": "code",
   "execution_count": 20,
   "metadata": {},
   "outputs": [],
   "source": [
    "def tokenization_tweets(data, features):\n",
    "    tokenization = TfidfVectorizer(max_features=features)\n",
    "    tokenization.fit(data)\n",
    "    transformed = tokenization.transform(data).toarray()\n",
    "    return transformed"
   ]
  },
  {
   "cell_type": "code",
   "execution_count": 21,
   "metadata": {},
   "outputs": [],
   "source": [
    "def test(X_test, model_nn):\n",
    "    prediction = model_nn.predict(X_test)\n",
    "    return prediction"
   ]
  },
  {
   "cell_type": "code",
   "execution_count": 22,
   "metadata": {},
   "outputs": [],
   "source": [
    "tweet_table = clean_df(df)"
   ]
  },
  {
   "cell_type": "code",
   "execution_count": 23,
   "metadata": {},
   "outputs": [
    {
     "data": {
      "text/plain": [
       "0            cnsnews benshapiro covidvaccine end pandemic\n",
       "1       intrepidwarrior realdonaldtrump covidvaccine e...\n",
       "2         edyong helenbranswell covidvaccine end pandemic\n",
       "3                  adamtexdavis covidvaccine end pandemic\n",
       "4                       hegkong covidvaccine end pandemic\n",
       "                              ...                        \n",
       "9989    anitaoakville covidvaccinewe added medicagoinc...\n",
       "9990    anitaoakville covidvaccinewe added medicagoinc...\n",
       "9991     covid vaccines pass fda requirements covid covid\n",
       "9997    breaking clinical trial astrazenecaoxford covi...\n",
       "9999    anitaoakville covidvaccinewe added medicagoinc...\n",
       "Name: Data, Length: 5054, dtype: object"
      ]
     },
     "execution_count": 23,
     "metadata": {},
     "output_type": "execute_result"
    }
   ],
   "source": [
    "tweet_table[tweet_table['Score'] == \"0\"][\"Data\"]"
   ]
  },
  {
   "cell_type": "code",
   "execution_count": 24,
   "metadata": {},
   "outputs": [
    {
     "data": {
      "image/png": "[encoded data removed]",
      "text/plain": [
       "<Figure size 720x360 with 1 Axes>"
      ]
     },
     "metadata": {
      "needs_background": "light"
     },
     "output_type": "display_data"
    },
    {
     "data": {
      "image/png": "[encoded data removed]",
      "text/plain": [
       "<Figure size 720x360 with 1 Axes>"
      ]
     },
     "metadata": {
      "needs_background": "light"
     },
     "output_type": "display_data"
    },
    {
     "data": {
      "image/png": "[encoded data removed]",
      "text/plain": [
       "<Figure size 720x360 with 1 Axes>"
      ]
     },
     "metadata": {
      "needs_background": "light"
     },
     "output_type": "display_data"
    }
   ],
   "source": [
    "if __name__ == \"__main__\":\n",
    "    word_frequency = vectorization(tweet_table).sort_values(0, ascending = False)\n",
    "    word_frequency_pos = vectorization(tweet_table[tweet_table['Score'] == '1']).sort_values(0, ascending = False)\n",
    "    word_frequency_neg = vectorization(tweet_table[tweet_table['Score'] == '0']).sort_values(0, ascending = False)\n",
    "    graph(word_frequency, 'all')\n",
    "    graph(word_frequency_pos, '1')\n",
    "    graph(word_frequency_neg, '0')\n"
   ]
  },
  {
   "cell_type": "code",
   "execution_count": 25,
   "metadata": {
    "scrolled": true
   },
   "outputs": [
    {
     "data": {
      "image/png": "[encoded data removed]",
      "text/plain": [
       "<Figure size 432x432 with 2 Axes>"
      ]
     },
     "metadata": {},
     "output_type": "display_data"
    }
   ],
   "source": [
    "if __name__ == \"__main__\":\n",
    "    table_regression = pd.concat([word_frequency_pos, word_frequency_neg], axis=1, sort=False)\n",
    "    table_regression.columns = [\"1\", \"0\"]\n",
    "    regression_graph(table_regression)\n",
    "\n"
   ]
  },
  {
   "cell_type": "code",
   "execution_count": 26,
   "metadata": {},
   "outputs": [],
   "source": [
    "if __name__ == \"__main__\":\n",
    "    tweet_table = df"
   ]
  },
  {
   "cell_type": "code",
   "execution_count": 27,
   "metadata": {},
   "outputs": [],
   "source": [
    "if __name__ == \"__main__\":\n",
    "    tweet_table['Score'] = tweet_table['Score'].apply(lambda x: 2 if x == '2' else (0 if x == '1' else 1))"
   ]
  },
  {
   "cell_type": "code",
   "execution_count": 28,
   "metadata": {},
   "outputs": [],
   "source": [
    "if __name__ == \"__main__\":\n",
    "    X_train, X_test, y_train, y_test = splitting(tweet_table)"
   ]
  },
  {
   "cell_type": "code",
   "execution_count": 29,
   "metadata": {},
   "outputs": [],
   "source": [
    "def train(X_train_mod, y_train, features, shuffle, drop, layer1, layer2, layer3,layer4,layer5, layer6, layer7, epoch, learning_rate, eps, val):\n",
    "    model_nn = Sequential()\n",
    "    model_nn.add(Dense(layer1, input_shape=(features,), activation='relu'))\n",
    "    model_nn.add(Dropout(drop))\n",
    "    model_nn.add(Dense(layer2, activation='sigmoid'))\n",
    "    model_nn.add(Dropout(drop))\n",
    "    model_nn.add(Dense(layer3, activation='sigmoid'))\n",
    "    model_nn.add(Dropout(drop))\n",
    "    model_nn.add(Dense(layer4, activation='sigmoid'))\n",
    "    model_nn.add(Dropout(drop))\n",
    "    model_nn.add(Dense(layer5, activation='sigmoid'))\n",
    "    model_nn.add(Dropout(drop))\n",
    "    model_nn.add(Dense(layer6, activation='sigmoid'))\n",
    "    model_nn.add(Dropout(drop))\n",
    "    model_nn.add(Dense(layer7, activation='sigmoid'))\n",
    "    model_nn.add(Dropout(drop))\n",
    "    \n",
    "    model_nn.add(Dense(3, activation='softmax'))\n",
    "    \n",
    "    optimizer = keras.optimizers.Adam(lr=learning_rate, beta_1=0.9, beta_2=0.9999, epsilon=eps, decay=0.0, amsgrad=False)\n",
    "    model_nn.compile(loss='binary_crossentropy',\n",
    "                 optimizer=optimizer,\n",
    "                 metrics=['accuracy'])\n",
    "    model_nn.fit(np.array(X_train_mod), y_train,\n",
    "                 batch_size=32,\n",
    "                 epochs=epoch,\n",
    "                 verbose=1,\n",
    "                 validation_split=val,\n",
    "                 shuffle=shuffle)\n",
    "    return model_nn"
   ]
  },
  {
   "cell_type": "code",
   "execution_count": 30,
   "metadata": {},
   "outputs": [
    {
     "name": "stdout",
     "output_type": "stream",
     "text": [
      "Epoch 1/20\n",
      "225/225 [==============================] - 7s 30ms/step - loss: 0.7752 - accuracy: 0.3094 - val_loss: 0.7417 - val_accuracy: 0.0000e+00\n",
      "Epoch 2/20\n",
      "225/225 [==============================] - 7s 31ms/step - loss: 0.7556 - accuracy: 0.2542 - val_loss: 0.7417 - val_accuracy: 0.0000e+00\n",
      "Epoch 3/20\n",
      "225/225 [==============================] - 10s 46ms/step - loss: 0.7549 - accuracy: 0.2525 - val_loss: 0.7417 - val_accuracy: 0.0000e+00\n",
      "Epoch 4/20\n",
      "225/225 [==============================] - 7s 30ms/step - loss: 0.7547 - accuracy: 0.2550 - val_loss: 0.7416 - val_accuracy: 0.0000e+00\n",
      "Epoch 5/20\n",
      "225/225 [==============================] - 5s 22ms/step - loss: 0.7546 - accuracy: 0.2447 - val_loss: 0.7416 - val_accuracy: 0.0000e+00\n",
      "Epoch 6/20\n",
      "225/225 [==============================] - 5s 22ms/step - loss: 0.7545 - accuracy: 0.2432 - val_loss: 0.7416 - val_accuracy: 0.0000e+00\n",
      "Epoch 7/20\n",
      "225/225 [==============================] - 5s 23ms/step - loss: 0.7545 - accuracy: 0.2365 - val_loss: 0.7416 - val_accuracy: 0.0000e+00\n",
      "Epoch 8/20\n",
      "225/225 [==============================] - 5s 24ms/step - loss: 0.7545 - accuracy: 0.2371 - val_loss: 0.7416 - val_accuracy: 0.0000e+00\n",
      "Epoch 9/20\n",
      "225/225 [==============================] - 5s 22ms/step - loss: 0.7545 - accuracy: 0.2510 - val_loss: 0.7416 - val_accuracy: 0.0000e+00\n",
      "Epoch 10/20\n",
      "225/225 [==============================] - 5s 23ms/step - loss: 0.7545 - accuracy: 0.2478 - val_loss: 0.7416 - val_accuracy: 0.0000e+00\n",
      "Epoch 11/20\n",
      "225/225 [==============================] - 5s 22ms/step - loss: 0.7545 - accuracy: 0.2322 - val_loss: 0.7416 - val_accuracy: 0.0000e+00\n",
      "Epoch 12/20\n",
      "225/225 [==============================] - 6s 25ms/step - loss: 0.7545 - accuracy: 0.2408 - val_loss: 0.7416 - val_accuracy: 0.0000e+00\n",
      "Epoch 13/20\n",
      "225/225 [==============================] - 6s 25ms/step - loss: 0.7545 - accuracy: 0.2489 - val_loss: 0.7416 - val_accuracy: 0.0000e+00\n",
      "Epoch 14/20\n",
      "225/225 [==============================] - 6s 27ms/step - loss: 0.7545 - accuracy: 0.2415 - val_loss: 0.7416 - val_accuracy: 0.0000e+00\n",
      "Epoch 15/20\n",
      "225/225 [==============================] - 6s 26ms/step - loss: 0.7545 - accuracy: 0.2279 - val_loss: 0.7416 - val_accuracy: 0.0000e+00\n",
      "Epoch 16/20\n",
      "225/225 [==============================] - 6s 25ms/step - loss: 0.7545 - accuracy: 0.2279 - val_loss: 0.7416 - val_accuracy: 0.0000e+00\n",
      "Epoch 17/20\n",
      "225/225 [==============================] - 5s 24ms/step - loss: 0.7545 - accuracy: 0.2449 - val_loss: 0.7416 - val_accuracy: 0.0000e+00\n",
      "Epoch 18/20\n",
      "225/225 [==============================] - 6s 25ms/step - loss: 0.7545 - accuracy: 0.2267 - val_loss: 0.7416 - val_accuracy: 0.0000e+00\n",
      "Epoch 19/20\n",
      "225/225 [==============================] - 5s 24ms/step - loss: 0.7545 - accuracy: 0.2387 - val_loss: 0.7416 - val_accuracy: 0.0000e+00\n",
      "Epoch 20/20\n",
      "225/225 [==============================] - 5s 22ms/step - loss: 0.7545 - accuracy: 0.2411 - val_loss: 0.7416 - val_accuracy: 0.0000e+00\n"
     ]
    },
    {
     "data": {
      "text/plain": [
       "<tensorflow.python.keras.engine.sequential.Sequential at 0x143748280>"
      ]
     },
     "execution_count": 30,
     "metadata": {},
     "output_type": "execute_result"
    }
   ],
   "source": [
    "def model1(X_train, y_train):   \n",
    "    features = 3000\n",
    "    shuffle = True\n",
    "    drop = 0.5\n",
    "    layer1 = 600\n",
    "    layer2 = 512\n",
    "    layer3 = 256\n",
    "    layer4 = 200\n",
    "    layer5 = 112\n",
    "    layer6 = 56\n",
    "    layer7 = 16\n",
    "    epoch = 20\n",
    "    lr = 0.002\n",
    "    epsilon = 0.00008\n",
    "    validation = 0.1\n",
    "    X_train_mod = tokenization_tweets(X_train, features)\n",
    "    model = train(X_train_mod, y_train, features, shuffle, drop, layer1, layer2,layer3, layer4,layer5, layer6, layer7, epoch, lr, epsilon, validation)\n",
    "    return model;\n",
    "model1(X_train, y_train)"
   ]
  },
  {
   "cell_type": "code",
   "execution_count": 31,
   "metadata": {},
   "outputs": [],
   "source": [
    "def train(X_train_mod, y_train, features, shuffle, drop, layer1, layer2, layer3,layer4,epoch, learning_rate, eps, val):\n",
    "    model_nn = Sequential()\n",
    "    model_nn.add(Dense(layer1, input_shape=(features,), activation='relu'))\n",
    "    model_nn.add(Dropout(drop))\n",
    "    model_nn.add(Dense(layer2, activation='sigmoid'))\n",
    "    model_nn.add(Dropout(drop))\n",
    "    model_nn.add(Dense(layer3, activation='sigmoid'))\n",
    "    model_nn.add(Dropout(drop))\n",
    "    model_nn.add(Dense(layer4, activation='sigmoid'))\n",
    "    model_nn.add(Dropout(drop))\n",
    "    \n",
    "    model_nn.add(Dense(3, activation='softmax'))\n",
    "    \n",
    "    optimizer = keras.optimizers.Adam(lr=learning_rate, beta_1=0.9, beta_2=0.9999, epsilon=eps, decay=0.0, amsgrad=False)\n",
    "    model_nn.compile(loss='binary_crossentropy',\n",
    "                 optimizer=optimizer,\n",
    "                 metrics=['accuracy'])\n",
    "    model_nn.fit(np.array(X_train_mod), y_train,\n",
    "                 batch_size=32,\n",
    "                 epochs=epoch,\n",
    "                 verbose=1,\n",
    "                 validation_split=val,\n",
    "                 shuffle=shuffle)\n",
    "    return model_nn"
   ]
  },
  {
   "cell_type": "code",
   "execution_count": 32,
   "metadata": {},
   "outputs": [
    {
     "name": "stdout",
     "output_type": "stream",
     "text": [
      "Epoch 1/5\n",
      "225/225 [==============================] - 6s 27ms/step - loss: 0.7678 - accuracy: 0.3333 - val_loss: 0.7416 - val_accuracy: 0.0000e+00\n",
      "Epoch 2/5\n",
      "225/225 [==============================] - 6s 25ms/step - loss: 0.7547 - accuracy: 0.3181 - val_loss: 0.7416 - val_accuracy: 0.0000e+00\n",
      "Epoch 3/5\n",
      "225/225 [==============================] - 6s 26ms/step - loss: 0.7545 - accuracy: 0.3151 - val_loss: 0.7416 - val_accuracy: 0.0000e+00\n",
      "Epoch 4/5\n",
      "225/225 [==============================] - 6s 26ms/step - loss: 0.7545 - accuracy: 0.3200 - val_loss: 0.7416 - val_accuracy: 0.0000e+00\n",
      "Epoch 5/5\n",
      "225/225 [==============================] - 6s 28ms/step - loss: 0.7545 - accuracy: 0.3260 - val_loss: 0.7416 - val_accuracy: 0.0000e+00\n"
     ]
    },
    {
     "data": {
      "text/plain": [
       "<tensorflow.python.keras.engine.sequential.Sequential at 0x14506b8b0>"
      ]
     },
     "execution_count": 32,
     "metadata": {},
     "output_type": "execute_result"
    }
   ],
   "source": [
    "def model2(X_train, y_train):   \n",
    "    features = 3000\n",
    "    shuffle = True\n",
    "    drop = 0.5\n",
    "    layer1 = 600\n",
    "    layer2 = 512\n",
    "    layer3 = 256\n",
    "    layer4 = 200\n",
    "    epoch = 5\n",
    "    lr = 0.002\n",
    "    epsilon = 0.00000001\n",
    "    validation = 0.1\n",
    "    X_train_mod = tokenization_tweets(X_train, features)\n",
    "    model = train(X_train_mod, y_train, features, shuffle, drop, layer1, layer2,layer3, layer4, epoch, lr, epsilon, validation)\n",
    "    return model;\n",
    "model2(X_train, y_train)"
   ]
  },
  {
   "cell_type": "code",
   "execution_count": 33,
   "metadata": {},
   "outputs": [
    {
     "name": "stdout",
     "output_type": "stream",
     "text": [
      "Epoch 1/15\n",
      "200/200 [==============================] - 5s 27ms/step - loss: 0.7792 - accuracy: 0.3298 - val_loss: 0.7556 - val_accuracy: 0.4950\n",
      "Epoch 2/15\n",
      "200/200 [==============================] - 6s 30ms/step - loss: 0.7531 - accuracy: 0.3308 - val_loss: 0.7555 - val_accuracy: 0.4950\n",
      "Epoch 3/15\n",
      "200/200 [==============================] - 4s 19ms/step - loss: 0.7527 - accuracy: 0.3264 - val_loss: 0.7555 - val_accuracy: 0.0000e+00\n",
      "Epoch 4/15\n",
      "200/200 [==============================] - 5s 25ms/step - loss: 0.7526 - accuracy: 0.3267 - val_loss: 0.7555 - val_accuracy: 0.5050\n",
      "Epoch 5/15\n",
      "200/200 [==============================] - 4s 22ms/step - loss: 0.7526 - accuracy: 0.3325 - val_loss: 0.7555 - val_accuracy: 0.5050\n",
      "Epoch 6/15\n",
      "200/200 [==============================] - 5s 25ms/step - loss: 0.7526 - accuracy: 0.3319 - val_loss: 0.7555 - val_accuracy: 0.0000e+00\n",
      "Epoch 7/15\n",
      "200/200 [==============================] - 4s 22ms/step - loss: 0.7526 - accuracy: 0.3267 - val_loss: 0.7555 - val_accuracy: 0.4950\n",
      "Epoch 8/15\n",
      "200/200 [==============================] - 4s 20ms/step - loss: 0.7526 - accuracy: 0.3294 - val_loss: 0.7555 - val_accuracy: 0.0000e+00\n",
      "Epoch 9/15\n",
      "200/200 [==============================] - 5s 26ms/step - loss: 0.7526 - accuracy: 0.3342 - val_loss: 0.7555 - val_accuracy: 0.4950\n",
      "Epoch 10/15\n",
      "200/200 [==============================] - 5s 24ms/step - loss: 0.7526 - accuracy: 0.3108 - val_loss: 0.7555 - val_accuracy: 0.5050\n",
      "Epoch 11/15\n",
      "200/200 [==============================] - 4s 22ms/step - loss: 0.7526 - accuracy: 0.3161 - val_loss: 0.7555 - val_accuracy: 0.5050\n",
      "Epoch 12/15\n",
      "200/200 [==============================] - 4s 21ms/step - loss: 0.7526 - accuracy: 0.3348 - val_loss: 0.7555 - val_accuracy: 0.5050\n",
      "Epoch 13/15\n",
      "200/200 [==============================] - 4s 20ms/step - loss: 0.7526 - accuracy: 0.3208 - val_loss: 0.7555 - val_accuracy: 0.0000e+00\n",
      "Epoch 14/15\n",
      "200/200 [==============================] - 4s 20ms/step - loss: 0.7526 - accuracy: 0.3252 - val_loss: 0.7555 - val_accuracy: 0.5050\n",
      "Epoch 15/15\n",
      "200/200 [==============================] - 4s 21ms/step - loss: 0.7526 - accuracy: 0.3314 - val_loss: 0.7555 - val_accuracy: 0.4950\n"
     ]
    },
    {
     "data": {
      "text/plain": [
       "<tensorflow.python.keras.engine.sequential.Sequential at 0x1434c60a0>"
      ]
     },
     "execution_count": 33,
     "metadata": {},
     "output_type": "execute_result"
    }
   ],
   "source": [
    "def model3(X_train, y_train):   \n",
    "    features = 3000\n",
    "    shuffle = True\n",
    "    drop = 0.5\n",
    "    layer1 = 600\n",
    "    layer2 = 512\n",
    "    layer3 = 256\n",
    "    layer4 = 200\n",
    "    epoch = 15\n",
    "    lr = 0.009\n",
    "    epsilon = 0.001\n",
    "    validation = 0.2\n",
    "    X_train_mod = tokenization_tweets(X_train, features)\n",
    "    model = train(X_train_mod, y_train, features, shuffle, drop, layer1, layer2,layer3, layer4, epoch, lr, epsilon, validation)\n",
    "    return model;\n",
    "model3(X_train, y_train)"
   ]
  },
  {
   "cell_type": "code",
   "execution_count": 34,
   "metadata": {},
   "outputs": [],
   "source": [
    "def train(X_train_mod, y_train, features, shuffle, drop, layer1, layer2, layer3,layer4,layer5, layer6, layer7, epoch, learning_rate, eps, val):\n",
    "    model_nn = Sequential()\n",
    "    model_nn.add(Dense(layer1, input_shape=(features,), activation='relu'))\n",
    "    model_nn.add(Dropout(drop))\n",
    "    model_nn.add(Dense(layer2, activation='sigmoid'))\n",
    "    model_nn.add(Dropout(drop))\n",
    "    model_nn.add(Dense(layer3, activation='sigmoid'))\n",
    "    model_nn.add(Dropout(drop))\n",
    "    model_nn.add(Dense(layer4, activation='sigmoid'))\n",
    "    model_nn.add(Dropout(drop))\n",
    "    model_nn.add(Dense(layer5, activation='sigmoid'))\n",
    "    model_nn.add(Dropout(drop))\n",
    "    model_nn.add(Dense(layer6, activation='sigmoid'))\n",
    "    model_nn.add(Dropout(drop))\n",
    "    model_nn.add(Dense(layer7, activation='sigmoid'))\n",
    "    model_nn.add(Dropout(drop))\n",
    "    \n",
    "    model_nn.add(Dense(3, activation='softmax'))\n",
    "    \n",
    "    optimizer = keras.optimizers.Adam(lr=learning_rate, beta_1=0.9, beta_2=0.9999, epsilon=eps, decay=0.0, amsgrad=False)\n",
    "    model_nn.compile(loss='binary_crossentropy',\n",
    "                 optimizer=optimizer,\n",
    "                 metrics=['accuracy'])\n",
    "    model_nn.fit(np.array(X_train_mod), y_train,\n",
    "                 batch_size=32,\n",
    "                 epochs=epoch,\n",
    "                 verbose=1,\n",
    "                 validation_split=val,\n",
    "                 shuffle=shuffle)\n",
    "    return model_nn"
   ]
  },
  {
   "cell_type": "code",
   "execution_count": 35,
   "metadata": {},
   "outputs": [
    {
     "name": "stdout",
     "output_type": "stream",
     "text": [
      "Epoch 1/10\n",
      "225/225 [==============================] - 4s 20ms/step - loss: 0.7676 - accuracy: 0.3190 - val_loss: 0.7418 - val_accuracy: 0.5150\n",
      "Epoch 2/10\n",
      "225/225 [==============================] - 4s 18ms/step - loss: 0.7552 - accuracy: 0.3722 - val_loss: 0.7417 - val_accuracy: 0.4850\n",
      "Epoch 3/10\n",
      "225/225 [==============================] - 4s 20ms/step - loss: 0.7548 - accuracy: 0.3676 - val_loss: 0.7417 - val_accuracy: 0.4850\n",
      "Epoch 4/10\n",
      "225/225 [==============================] - 5s 21ms/step - loss: 0.7546 - accuracy: 0.3601 - val_loss: 0.7416 - val_accuracy: 0.4850\n",
      "Epoch 5/10\n",
      "225/225 [==============================] - 6s 26ms/step - loss: 0.7546 - accuracy: 0.3535 - val_loss: 0.7416 - val_accuracy: 0.4850\n",
      "Epoch 6/10\n",
      "225/225 [==============================] - 5s 22ms/step - loss: 0.7545 - accuracy: 0.3567 - val_loss: 0.7416 - val_accuracy: 0.4850\n",
      "Epoch 7/10\n",
      "225/225 [==============================] - 5s 23ms/step - loss: 0.7545 - accuracy: 0.3654 - val_loss: 0.7416 - val_accuracy: 0.4850\n",
      "Epoch 8/10\n",
      "225/225 [==============================] - 5s 22ms/step - loss: 0.7545 - accuracy: 0.3707 - val_loss: 0.7416 - val_accuracy: 0.4850\n",
      "Epoch 9/10\n",
      "225/225 [==============================] - 5s 24ms/step - loss: 0.7545 - accuracy: 0.3644 - val_loss: 0.7416 - val_accuracy: 0.4850\n",
      "Epoch 10/10\n",
      "225/225 [==============================] - 5s 22ms/step - loss: 0.7545 - accuracy: 0.3562 - val_loss: 0.7416 - val_accuracy: 0.4850\n"
     ]
    },
    {
     "data": {
      "text/plain": [
       "<tensorflow.python.keras.engine.sequential.Sequential at 0x146a309d0>"
      ]
     },
     "execution_count": 35,
     "metadata": {},
     "output_type": "execute_result"
    }
   ],
   "source": [
    "def model4(X_train, y_train):   \n",
    "    features = 3000\n",
    "    shuffle = True\n",
    "    drop = 0.5\n",
    "    layer1 = 540\n",
    "    layer2 = 532\n",
    "    layer3 = 256\n",
    "    layer4 = 230\n",
    "    layer5 = 112\n",
    "    layer6 = 56\n",
    "    layer7 = 10\n",
    "    epoch = 10\n",
    "    lr = 0.002\n",
    "    epsilon = 0.00000001\n",
    "    validation = 0.1\n",
    "    X_train_mod = tokenization_tweets(X_train, features)\n",
    "    model = train(X_train_mod, y_train, features, shuffle, drop, layer1, layer2,layer3, layer4,layer5,layer6, layer7, epoch, lr, epsilon, validation)\n",
    "    return model;\n",
    "model4(X_train, y_train)"
   ]
  }
 ],
 "metadata": {
  "kernelspec": {
   "display_name": "Python 3",
   "language": "python",
   "name": "python3"
  },
  "language_info": {
   "codemirror_mode": {
    "name": "ipython",
    "version": 3
   },
   "file_extension": ".py",
   "mimetype": "text/x-python",
   "name": "python",
   "nbconvert_exporter": "python",
   "pygments_lexer": "ipython3",
   "version": "3.8.3"
  }
 },
 "nbformat": 4,
 "nbformat_minor": 4
}
